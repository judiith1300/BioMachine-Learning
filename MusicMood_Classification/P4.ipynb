{
 "metadata": {
  "language_info": {
   "codemirror_mode": {
    "name": "ipython",
    "version": 3
   },
   "file_extension": ".py",
   "mimetype": "text/x-python",
   "name": "python",
   "nbconvert_exporter": "python",
   "pygments_lexer": "ipython3",
   "version": "3.9.1"
  },
  "orig_nbformat": 2,
  "kernelspec": {
   "name": "python3",
   "display_name": "Python 3.9.1 64-bit",
   "metadata": {
    "interpreter": {
     "hash": "a503c03fc099b655bcfe4d94bd8a52c23c07f44eef940af676253459c52942dd"
    }
   }
  }
 },
 "nbformat": 4,
 "nbformat_minor": 2,
 "cells": [
  {
   "cell_type": "code",
   "execution_count": 4,
   "metadata": {},
   "outputs": [],
   "source": [
    "import pandas as pd\n",
    "import numpy as np\n",
    "import matplotlib.pyplot as plt"
   ]
  },
  {
   "cell_type": "code",
   "execution_count": 16,
   "metadata": {},
   "outputs": [],
   "source": [
    "PATH = os.path.dirname(os.getcwd())\n",
    "data_path = os.path.join(PATH,'Lab4/Data')"
   ]
  },
  {
   "cell_type": "code",
   "execution_count": 17,
   "metadata": {},
   "outputs": [
    {
     "output_type": "execute_result",
     "data": {
      "text/plain": [
       "'d:\\\\Documents\\\\BioML\\\\Lab4/Data'"
      ]
     },
     "metadata": {},
     "execution_count": 17
    }
   ],
   "source": [
    "data_path"
   ]
  },
  {
   "cell_type": "code",
   "execution_count": 18,
   "metadata": {},
   "outputs": [],
   "source": [
    "test = pd.read_csv(os.path.join(data_path,'TestSet.csv'))\n",
    "train = pd.read_csv(os.path.join(data_path, 'TrainSet.csv'))"
   ]
  },
  {
   "cell_type": "code",
   "execution_count": 19,
   "metadata": {},
   "outputs": [
    {
     "output_type": "execute_result",
     "data": {
      "text/plain": [
       "                                 File_Name        Em        Ed        El  \\\n",
       "0          01-anarchy_in_the_uk.mp3         0.228523  0.005756  0.003345   \n",
       "1             01-angel_of_death.mp3         0.231866  0.007204  0.005113   \n",
       "2      01-back_to_the_primitive.mp3         0.332185  0.006607  0.004470   \n",
       "3           01-born_on_the_cusp.mp3         0.347160  0.008825  0.004168   \n",
       "4  01-cold_cash_and_cold_hearts.mp3         0.307836  0.009545  0.006795   \n",
       "\n",
       "        LEm       ATm           Asm           ASd       EDm     FPm  ...  \\\n",
       "0  0.563593  0.057984  3.457377e+06  2.521368e+06  5.243943   866.0  ...   \n",
       "1  0.529508  0.049326  6.534186e+06  3.843431e+06  7.434451  1345.0  ...   \n",
       "2  0.493776  0.048627  7.084042e+06  3.847330e+06  7.334882  1403.0  ...   \n",
       "3  0.528738  0.058384  6.538634e+06  4.441305e+06  4.825737   627.0  ...   \n",
       "4  0.624839  0.067600  1.056926e+07  1.034890e+07  3.910991  1214.0  ...   \n",
       "\n",
       "        D7m        RSm        RSd        RRm        RRd        RTm        RTd  \\\n",
       "0 -0.000118  43.800431  21.912391  55.806736  57.279056  41.248632  21.913723   \n",
       "1  0.000176  28.242499  12.775416  15.886451  13.327719  36.544511  13.637614   \n",
       "2 -0.000410  48.627341  27.925648  55.329468  45.522860  41.719539  19.529773   \n",
       "3  0.000496  39.098973  16.653536  22.606410  13.184925  43.178580  13.889276   \n",
       "4 -0.000238  70.602915  55.540702  84.173088  74.933277  89.995850  69.841522   \n",
       "\n",
       "         RGm        RGd       class  \n",
       "0  43.028042  22.847610  aggressive  \n",
       "1  36.336147  13.062584  aggressive  \n",
       "2  43.087762  20.105442  aggressive  \n",
       "3  52.134777  17.766253  aggressive  \n",
       "4  91.929329  66.362908  aggressive  \n",
       "\n",
       "[5 rows x 68 columns]"
      ],
      "text/html": "<div>\n<style scoped>\n    .dataframe tbody tr th:only-of-type {\n        vertical-align: middle;\n    }\n\n    .dataframe tbody tr th {\n        vertical-align: top;\n    }\n\n    .dataframe thead th {\n        text-align: right;\n    }\n</style>\n<table border=\"1\" class=\"dataframe\">\n  <thead>\n    <tr style=\"text-align: right;\">\n      <th></th>\n      <th>File_Name</th>\n      <th>Em</th>\n      <th>Ed</th>\n      <th>El</th>\n      <th>LEm</th>\n      <th>ATm</th>\n      <th>Asm</th>\n      <th>ASd</th>\n      <th>EDm</th>\n      <th>FPm</th>\n      <th>...</th>\n      <th>D7m</th>\n      <th>RSm</th>\n      <th>RSd</th>\n      <th>RRm</th>\n      <th>RRd</th>\n      <th>RTm</th>\n      <th>RTd</th>\n      <th>RGm</th>\n      <th>RGd</th>\n      <th>class</th>\n    </tr>\n  </thead>\n  <tbody>\n    <tr>\n      <th>0</th>\n      <td>01-anarchy_in_the_uk.mp3</td>\n      <td>0.228523</td>\n      <td>0.005756</td>\n      <td>0.003345</td>\n      <td>0.563593</td>\n      <td>0.057984</td>\n      <td>3.457377e+06</td>\n      <td>2.521368e+06</td>\n      <td>5.243943</td>\n      <td>866.0</td>\n      <td>...</td>\n      <td>-0.000118</td>\n      <td>43.800431</td>\n      <td>21.912391</td>\n      <td>55.806736</td>\n      <td>57.279056</td>\n      <td>41.248632</td>\n      <td>21.913723</td>\n      <td>43.028042</td>\n      <td>22.847610</td>\n      <td>aggressive</td>\n    </tr>\n    <tr>\n      <th>1</th>\n      <td>01-angel_of_death.mp3</td>\n      <td>0.231866</td>\n      <td>0.007204</td>\n      <td>0.005113</td>\n      <td>0.529508</td>\n      <td>0.049326</td>\n      <td>6.534186e+06</td>\n      <td>3.843431e+06</td>\n      <td>7.434451</td>\n      <td>1345.0</td>\n      <td>...</td>\n      <td>0.000176</td>\n      <td>28.242499</td>\n      <td>12.775416</td>\n      <td>15.886451</td>\n      <td>13.327719</td>\n      <td>36.544511</td>\n      <td>13.637614</td>\n      <td>36.336147</td>\n      <td>13.062584</td>\n      <td>aggressive</td>\n    </tr>\n    <tr>\n      <th>2</th>\n      <td>01-back_to_the_primitive.mp3</td>\n      <td>0.332185</td>\n      <td>0.006607</td>\n      <td>0.004470</td>\n      <td>0.493776</td>\n      <td>0.048627</td>\n      <td>7.084042e+06</td>\n      <td>3.847330e+06</td>\n      <td>7.334882</td>\n      <td>1403.0</td>\n      <td>...</td>\n      <td>-0.000410</td>\n      <td>48.627341</td>\n      <td>27.925648</td>\n      <td>55.329468</td>\n      <td>45.522860</td>\n      <td>41.719539</td>\n      <td>19.529773</td>\n      <td>43.087762</td>\n      <td>20.105442</td>\n      <td>aggressive</td>\n    </tr>\n    <tr>\n      <th>3</th>\n      <td>01-born_on_the_cusp.mp3</td>\n      <td>0.347160</td>\n      <td>0.008825</td>\n      <td>0.004168</td>\n      <td>0.528738</td>\n      <td>0.058384</td>\n      <td>6.538634e+06</td>\n      <td>4.441305e+06</td>\n      <td>4.825737</td>\n      <td>627.0</td>\n      <td>...</td>\n      <td>0.000496</td>\n      <td>39.098973</td>\n      <td>16.653536</td>\n      <td>22.606410</td>\n      <td>13.184925</td>\n      <td>43.178580</td>\n      <td>13.889276</td>\n      <td>52.134777</td>\n      <td>17.766253</td>\n      <td>aggressive</td>\n    </tr>\n    <tr>\n      <th>4</th>\n      <td>01-cold_cash_and_cold_hearts.mp3</td>\n      <td>0.307836</td>\n      <td>0.009545</td>\n      <td>0.006795</td>\n      <td>0.624839</td>\n      <td>0.067600</td>\n      <td>1.056926e+07</td>\n      <td>1.034890e+07</td>\n      <td>3.910991</td>\n      <td>1214.0</td>\n      <td>...</td>\n      <td>-0.000238</td>\n      <td>70.602915</td>\n      <td>55.540702</td>\n      <td>84.173088</td>\n      <td>74.933277</td>\n      <td>89.995850</td>\n      <td>69.841522</td>\n      <td>91.929329</td>\n      <td>66.362908</td>\n      <td>aggressive</td>\n    </tr>\n  </tbody>\n</table>\n<p>5 rows × 68 columns</p>\n</div>"
     },
     "metadata": {},
     "execution_count": 19
    }
   ],
   "source": [
    "train.head()"
   ]
  },
  {
   "cell_type": "code",
   "execution_count": 20,
   "metadata": {},
   "outputs": [
    {
     "output_type": "execute_result",
     "data": {
      "text/plain": [
       "                            File_Name        Em        Ed        El       LEm  \\\n",
       "0             02-blood_red.mp3         0.128940  0.003749  0.002211  0.580653   \n",
       "1  02-bodom_after_midnight.mp3         0.285500  0.007283  0.005037  0.546382   \n",
       "2                02-bugman.mp3         0.195721  0.006218  0.002770  0.536004   \n",
       "3                02-c.b.f..mp3         0.193850  0.005536  0.002150  0.515218   \n",
       "4           02-consequence.mp3         0.298894  0.007483  0.004069  0.548059   \n",
       "\n",
       "        ATm           Asm           ASd       EDm    FPm  ...       D7m  \\\n",
       "0  0.058792  1.082012e+06  9.805233e+05  4.404234  849.0  ...  0.000043   \n",
       "1  0.054875  7.307264e+06  4.607265e+06  6.166220  842.0  ...  0.000202   \n",
       "2  0.052886  2.588115e+06  2.379015e+06  3.578529  818.0  ...  0.000613   \n",
       "3  0.051667  1.751352e+06  1.276127e+06  5.060322  482.0  ... -0.000215   \n",
       "4  0.047348  6.233918e+06  3.946904e+06  6.769437  754.0  ... -0.000112   \n",
       "\n",
       "         RSm        RSd        RRm        RRd        RTm        RTd  \\\n",
       "0  47.204444  21.738519  53.600388  39.698359  63.557135  41.832562   \n",
       "1  54.116785  22.528348  37.501221  20.802084  77.543576  44.789592   \n",
       "2  51.024310  30.871097  69.976415  59.482751  49.573068  24.881059   \n",
       "3  59.735710  25.790115  46.106264  21.757741  71.750927  36.800473   \n",
       "4  43.027073  21.259440  37.698845  22.425000  54.368435  30.883196   \n",
       "\n",
       "         RGm        RGd       class  \n",
       "0  68.050005  37.982686  aggressive  \n",
       "1  82.960007  41.743042  aggressive  \n",
       "2  60.317923  30.313440  aggressive  \n",
       "3  72.846802  33.974064  aggressive  \n",
       "4  54.320102  25.594209  aggressive  \n",
       "\n",
       "[5 rows x 68 columns]"
      ],
      "text/html": "<div>\n<style scoped>\n    .dataframe tbody tr th:only-of-type {\n        vertical-align: middle;\n    }\n\n    .dataframe tbody tr th {\n        vertical-align: top;\n    }\n\n    .dataframe thead th {\n        text-align: right;\n    }\n</style>\n<table border=\"1\" class=\"dataframe\">\n  <thead>\n    <tr style=\"text-align: right;\">\n      <th></th>\n      <th>File_Name</th>\n      <th>Em</th>\n      <th>Ed</th>\n      <th>El</th>\n      <th>LEm</th>\n      <th>ATm</th>\n      <th>Asm</th>\n      <th>ASd</th>\n      <th>EDm</th>\n      <th>FPm</th>\n      <th>...</th>\n      <th>D7m</th>\n      <th>RSm</th>\n      <th>RSd</th>\n      <th>RRm</th>\n      <th>RRd</th>\n      <th>RTm</th>\n      <th>RTd</th>\n      <th>RGm</th>\n      <th>RGd</th>\n      <th>class</th>\n    </tr>\n  </thead>\n  <tbody>\n    <tr>\n      <th>0</th>\n      <td>02-blood_red.mp3</td>\n      <td>0.128940</td>\n      <td>0.003749</td>\n      <td>0.002211</td>\n      <td>0.580653</td>\n      <td>0.058792</td>\n      <td>1.082012e+06</td>\n      <td>9.805233e+05</td>\n      <td>4.404234</td>\n      <td>849.0</td>\n      <td>...</td>\n      <td>0.000043</td>\n      <td>47.204444</td>\n      <td>21.738519</td>\n      <td>53.600388</td>\n      <td>39.698359</td>\n      <td>63.557135</td>\n      <td>41.832562</td>\n      <td>68.050005</td>\n      <td>37.982686</td>\n      <td>aggressive</td>\n    </tr>\n    <tr>\n      <th>1</th>\n      <td>02-bodom_after_midnight.mp3</td>\n      <td>0.285500</td>\n      <td>0.007283</td>\n      <td>0.005037</td>\n      <td>0.546382</td>\n      <td>0.054875</td>\n      <td>7.307264e+06</td>\n      <td>4.607265e+06</td>\n      <td>6.166220</td>\n      <td>842.0</td>\n      <td>...</td>\n      <td>0.000202</td>\n      <td>54.116785</td>\n      <td>22.528348</td>\n      <td>37.501221</td>\n      <td>20.802084</td>\n      <td>77.543576</td>\n      <td>44.789592</td>\n      <td>82.960007</td>\n      <td>41.743042</td>\n      <td>aggressive</td>\n    </tr>\n    <tr>\n      <th>2</th>\n      <td>02-bugman.mp3</td>\n      <td>0.195721</td>\n      <td>0.006218</td>\n      <td>0.002770</td>\n      <td>0.536004</td>\n      <td>0.052886</td>\n      <td>2.588115e+06</td>\n      <td>2.379015e+06</td>\n      <td>3.578529</td>\n      <td>818.0</td>\n      <td>...</td>\n      <td>0.000613</td>\n      <td>51.024310</td>\n      <td>30.871097</td>\n      <td>69.976415</td>\n      <td>59.482751</td>\n      <td>49.573068</td>\n      <td>24.881059</td>\n      <td>60.317923</td>\n      <td>30.313440</td>\n      <td>aggressive</td>\n    </tr>\n    <tr>\n      <th>3</th>\n      <td>02-c.b.f..mp3</td>\n      <td>0.193850</td>\n      <td>0.005536</td>\n      <td>0.002150</td>\n      <td>0.515218</td>\n      <td>0.051667</td>\n      <td>1.751352e+06</td>\n      <td>1.276127e+06</td>\n      <td>5.060322</td>\n      <td>482.0</td>\n      <td>...</td>\n      <td>-0.000215</td>\n      <td>59.735710</td>\n      <td>25.790115</td>\n      <td>46.106264</td>\n      <td>21.757741</td>\n      <td>71.750927</td>\n      <td>36.800473</td>\n      <td>72.846802</td>\n      <td>33.974064</td>\n      <td>aggressive</td>\n    </tr>\n    <tr>\n      <th>4</th>\n      <td>02-consequence.mp3</td>\n      <td>0.298894</td>\n      <td>0.007483</td>\n      <td>0.004069</td>\n      <td>0.548059</td>\n      <td>0.047348</td>\n      <td>6.233918e+06</td>\n      <td>3.946904e+06</td>\n      <td>6.769437</td>\n      <td>754.0</td>\n      <td>...</td>\n      <td>-0.000112</td>\n      <td>43.027073</td>\n      <td>21.259440</td>\n      <td>37.698845</td>\n      <td>22.425000</td>\n      <td>54.368435</td>\n      <td>30.883196</td>\n      <td>54.320102</td>\n      <td>25.594209</td>\n      <td>aggressive</td>\n    </tr>\n  </tbody>\n</table>\n<p>5 rows × 68 columns</p>\n</div>"
     },
     "metadata": {},
     "execution_count": 20
    }
   ],
   "source": [
    "test.head(p)"
   ]
  }
 ]
}